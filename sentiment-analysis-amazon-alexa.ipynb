{
 "cells": [
  {
   "cell_type": "code",
   "execution_count": 1,
   "id": "587718a9",
   "metadata": {
    "_cell_guid": "b1076dfc-b9ad-4769-8c92-a6c4dae69d19",
    "_uuid": "8f2839f25d086af736a60e9eeb907d3b93b6e0e5",
    "execution": {
     "iopub.execute_input": "2025-04-04T10:08:51.174919Z",
     "iopub.status.busy": "2025-04-04T10:08:51.174393Z",
     "iopub.status.idle": "2025-04-04T10:08:52.292594Z",
     "shell.execute_reply": "2025-04-04T10:08:52.291296Z"
    },
    "papermill": {
     "duration": 1.125281,
     "end_time": "2025-04-04T10:08:52.294697",
     "exception": false,
     "start_time": "2025-04-04T10:08:51.169416",
     "status": "completed"
    },
    "tags": []
   },
   "outputs": [
    {
     "name": "stdout",
     "output_type": "stream",
     "text": [
      "/kaggle/input/amazon-reviews-alexa/amazon_alexa.tsv\n"
     ]
    }
   ],
   "source": [
    "# This Python 3 environment comes with many helpful analytics libraries installed\n",
    "# It is defined by the kaggle/python Docker image: https://github.com/kaggle/docker-python\n",
    "# For example, here's several helpful packages to load\n",
    "\n",
    "import numpy as np # linear algebra\n",
    "import pandas as pd # data processing, CSV file I/O (e.g. pd.read_csv)\n",
    "\n",
    "# Input data files are available in the read-only \"../input/\" directory\n",
    "# For example, running this (by clicking run or pressing Shift+Enter) will list all files under the input directory\n",
    "\n",
    "import os\n",
    "for dirname, _, filenames in os.walk('/kaggle/input'):\n",
    "    for filename in filenames:\n",
    "        print(os.path.join(dirname, filename))\n",
    "\n",
    "# You can write up to 20GB to the current directory (/kaggle/working/) that gets preserved as output when you create a version using \"Save & Run All\" \n",
    "# You can also write temporary files to /kaggle/temp/, but they won't be saved outside of the current session"
   ]
  },
  {
   "cell_type": "code",
   "execution_count": 2,
   "id": "1ae1ed10",
   "metadata": {
    "execution": {
     "iopub.execute_input": "2025-04-04T10:08:52.303695Z",
     "iopub.status.busy": "2025-04-04T10:08:52.303093Z",
     "iopub.status.idle": "2025-04-04T10:08:54.844749Z",
     "shell.execute_reply": "2025-04-04T10:08:54.843632Z"
    },
    "papermill": {
     "duration": 2.548115,
     "end_time": "2025-04-04T10:08:54.846882",
     "exception": false,
     "start_time": "2025-04-04T10:08:52.298767",
     "status": "completed"
    },
    "tags": []
   },
   "outputs": [],
   "source": [
    "import pandas as pd\n",
    "import matplotlib.pyplot as plt\n",
    "import nltk\n",
    "from nltk.tokenize import sent_tokenize\n",
    "from textblob import TextBlob\n",
    "from sklearn.model_selection import train_test_split"
   ]
  },
  {
   "cell_type": "code",
   "execution_count": 3,
   "id": "f958e83b",
   "metadata": {
    "execution": {
     "iopub.execute_input": "2025-04-04T10:08:54.855325Z",
     "iopub.status.busy": "2025-04-04T10:08:54.854776Z",
     "iopub.status.idle": "2025-04-04T10:08:54.892642Z",
     "shell.execute_reply": "2025-04-04T10:08:54.891496Z"
    },
    "papermill": {
     "duration": 0.044334,
     "end_time": "2025-04-04T10:08:54.894839",
     "exception": false,
     "start_time": "2025-04-04T10:08:54.850505",
     "status": "completed"
    },
    "tags": []
   },
   "outputs": [],
   "source": [
    "# Load dataset\n",
    "data_path = \"/kaggle/input/amazon-reviews-alexa/amazon_alexa.tsv\"\n",
    "df = pd.read_csv(data_path, sep='\\t')\n"
   ]
  },
  {
   "cell_type": "code",
   "execution_count": 4,
   "id": "b4af90e0",
   "metadata": {
    "execution": {
     "iopub.execute_input": "2025-04-04T10:08:54.903060Z",
     "iopub.status.busy": "2025-04-04T10:08:54.902658Z",
     "iopub.status.idle": "2025-04-04T10:08:54.945096Z",
     "shell.execute_reply": "2025-04-04T10:08:54.943485Z"
    },
    "papermill": {
     "duration": 0.048773,
     "end_time": "2025-04-04T10:08:54.947126",
     "exception": false,
     "start_time": "2025-04-04T10:08:54.898353",
     "status": "completed"
    },
    "tags": []
   },
   "outputs": [
    {
     "name": "stdout",
     "output_type": "stream",
     "text": [
      "   rating       date         variation  \\\n",
      "0       5  31-Jul-18  Charcoal Fabric    \n",
      "1       5  31-Jul-18  Charcoal Fabric    \n",
      "2       4  31-Jul-18    Walnut Finish    \n",
      "3       5  31-Jul-18  Charcoal Fabric    \n",
      "4       5  31-Jul-18  Charcoal Fabric    \n",
      "\n",
      "                                    verified_reviews  feedback  \n",
      "0                                      Love my Echo!         1  \n",
      "1                                          Loved it!         1  \n",
      "2  Sometimes while playing a game, you can answer...         1  \n",
      "3  I have had a lot of fun with this thing. My 4 ...         1  \n",
      "4                                              Music         1  \n",
      "<class 'pandas.core.frame.DataFrame'>\n",
      "RangeIndex: 3150 entries, 0 to 3149\n",
      "Data columns (total 5 columns):\n",
      " #   Column            Non-Null Count  Dtype \n",
      "---  ------            --------------  ----- \n",
      " 0   rating            3150 non-null   int64 \n",
      " 1   date              3150 non-null   object\n",
      " 2   variation         3150 non-null   object\n",
      " 3   verified_reviews  3149 non-null   object\n",
      " 4   feedback          3150 non-null   int64 \n",
      "dtypes: int64(2), object(3)\n",
      "memory usage: 123.2+ KB\n",
      "None\n"
     ]
    }
   ],
   "source": [
    "# Display basic info and first few rows\n",
    "print(df.head())\n",
    "print(df.info())"
   ]
  },
  {
   "cell_type": "code",
   "execution_count": 5,
   "id": "4f998d1d",
   "metadata": {
    "execution": {
     "iopub.execute_input": "2025-04-04T10:08:54.955338Z",
     "iopub.status.busy": "2025-04-04T10:08:54.954906Z",
     "iopub.status.idle": "2025-04-04T10:08:55.308241Z",
     "shell.execute_reply": "2025-04-04T10:08:55.307066Z"
    },
    "papermill": {
     "duration": 0.359396,
     "end_time": "2025-04-04T10:08:55.309974",
     "exception": false,
     "start_time": "2025-04-04T10:08:54.950578",
     "status": "completed"
    },
    "tags": []
   },
   "outputs": [
    {
     "data": {
      "image/png": "[encoded data removed]",
      "text/plain": [
       "<Figure size 800x500 with 1 Axes>"
      ]
     },
     "metadata": {},
     "output_type": "display_data"
    }
   ],
   "source": [
    "# Data Visualization\n",
    "plt.figure(figsize=(8, 5))\n",
    "df['length'] = df['verified_reviews'].apply(lambda x: len(str(x)))\n",
    "plt.hist(df['length'], bins=30, color='skyblue', edgecolor='black')\n",
    "plt.xlabel('Review Length')\n",
    "plt.ylabel('Frequency')\n",
    "plt.title('Distribution of Review Lengths')\n",
    "plt.show()"
   ]
  },
  {
   "cell_type": "code",
   "execution_count": 6,
   "id": "47cd63be",
   "metadata": {
    "execution": {
     "iopub.execute_input": "2025-04-04T10:08:55.318998Z",
     "iopub.status.busy": "2025-04-04T10:08:55.318649Z",
     "iopub.status.idle": "2025-04-04T10:08:55.324619Z",
     "shell.execute_reply": "2025-04-04T10:08:55.323726Z"
    },
    "papermill": {
     "duration": 0.012319,
     "end_time": "2025-04-04T10:08:55.326278",
     "exception": false,
     "start_time": "2025-04-04T10:08:55.313959",
     "status": "completed"
    },
    "tags": []
   },
   "outputs": [],
   "source": [
    "# Assign unique IDs\n",
    "df['Review_ID'] = ['AA' + str(i+1) for i in range(len(df))]"
   ]
  },
  {
   "cell_type": "code",
   "execution_count": 7,
   "id": "0b1e12ff",
   "metadata": {
    "execution": {
     "iopub.execute_input": "2025-04-04T10:08:55.335345Z",
     "iopub.status.busy": "2025-04-04T10:08:55.335006Z",
     "iopub.status.idle": "2025-04-04T10:08:55.345406Z",
     "shell.execute_reply": "2025-04-04T10:08:55.344521Z"
    },
    "papermill": {
     "duration": 0.016901,
     "end_time": "2025-04-04T10:08:55.347156",
     "exception": false,
     "start_time": "2025-04-04T10:08:55.330255",
     "status": "completed"
    },
    "tags": []
   },
   "outputs": [],
   "source": [
    "# Splitting into training & validation sets\n",
    "train_data, val_data = train_test_split(df, test_size=0.2, random_state=42)"
   ]
  },
  {
   "cell_type": "code",
   "execution_count": 8,
   "id": "eb5be08b",
   "metadata": {
    "execution": {
     "iopub.execute_input": "2025-04-04T10:08:55.356313Z",
     "iopub.status.busy": "2025-04-04T10:08:55.355959Z",
     "iopub.status.idle": "2025-04-04T10:08:55.361048Z",
     "shell.execute_reply": "2025-04-04T10:08:55.359933Z"
    },
    "papermill": {
     "duration": 0.011824,
     "end_time": "2025-04-04T10:08:55.362907",
     "exception": false,
     "start_time": "2025-04-04T10:08:55.351083",
     "status": "completed"
    },
    "tags": []
   },
   "outputs": [],
   "source": [
    "# Sentiment Analysis Function\n",
    "def get_sentiment(text):\n",
    "    blob = TextBlob(str(text))\n",
    "    polarity = blob.sentiment.polarity\n",
    "    sentiment = \"Neutral\"\n",
    "    if polarity > 0.1:\n",
    "        sentiment = \"Positive\"\n",
    "    elif polarity < -0.1:\n",
    "        sentiment = \"Negative\"\n",
    "    return sentiment, polarity"
   ]
  },
  {
   "cell_type": "code",
   "execution_count": 9,
   "id": "e9bffc79",
   "metadata": {
    "execution": {
     "iopub.execute_input": "2025-04-04T10:08:55.372014Z",
     "iopub.status.busy": "2025-04-04T10:08:55.371671Z",
     "iopub.status.idle": "2025-04-04T10:08:56.540501Z",
     "shell.execute_reply": "2025-04-04T10:08:56.539213Z"
    },
    "papermill": {
     "duration": 1.176414,
     "end_time": "2025-04-04T10:08:56.543309",
     "exception": false,
     "start_time": "2025-04-04T10:08:55.366895",
     "status": "completed"
    },
    "tags": []
   },
   "outputs": [],
   "source": [
    "# Applying sentiment analysis\n",
    "df['Sentiment'], df['Polarity_Score'] = zip(*df['verified_reviews'].apply(get_sentiment))\n"
   ]
  },
  {
   "cell_type": "code",
   "execution_count": 10,
   "id": "6fb1cef1",
   "metadata": {
    "execution": {
     "iopub.execute_input": "2025-04-04T10:08:56.553401Z",
     "iopub.status.busy": "2025-04-04T10:08:56.552829Z",
     "iopub.status.idle": "2025-04-04T10:08:56.558437Z",
     "shell.execute_reply": "2025-04-04T10:08:56.557221Z"
    },
    "papermill": {
     "duration": 0.012655,
     "end_time": "2025-04-04T10:08:56.560235",
     "exception": false,
     "start_time": "2025-04-04T10:08:56.547580",
     "status": "completed"
    },
    "tags": []
   },
   "outputs": [],
   "source": [
    "# Function to retrieve sentiment based on Unique ID\n",
    "def get_review_analysis(review_id):\n",
    "    result = df[df['Review_ID'] == review_id]\n",
    "    if not result.empty:\n",
    "        return {\n",
    "            'Sentiment': result.iloc[0]['Sentiment'],\n",
    "            'Polarity Score': result.iloc[0]['Polarity_Score'],\n",
    "            'Full Review': result.iloc[0]['verified_reviews']\n",
    "        }\n",
    "    else:\n",
    "        return \"Review ID not found.\""
   ]
  },
  {
   "cell_type": "code",
   "execution_count": 11,
   "id": "ad1a5af9",
   "metadata": {
    "execution": {
     "iopub.execute_input": "2025-04-04T10:08:56.569676Z",
     "iopub.status.busy": "2025-04-04T10:08:56.569250Z",
     "iopub.status.idle": "2025-04-04T10:08:56.577637Z",
     "shell.execute_reply": "2025-04-04T10:08:56.576058Z"
    },
    "papermill": {
     "duration": 0.015293,
     "end_time": "2025-04-04T10:08:56.579711",
     "exception": false,
     "start_time": "2025-04-04T10:08:56.564418",
     "status": "completed"
    },
    "tags": []
   },
   "outputs": [
    {
     "name": "stdout",
     "output_type": "stream",
     "text": [
      "{'Sentiment': 'Positive', 'Polarity Score': 0.2425925925925926, 'Full Review': \"The speakers sound pretty good for being so small and setup is pretty easy.  I bought two and the reason I only rate it a 3 is I have followed the instructions for synching music to both units.  I know I've done it correctly but they won't sync.  That was my primary motivation for purchasing multiple units.\"}\n"
     ]
    }
   ],
   "source": [
    "# Example usage\n",
    "example_id = \"AA34\"  # Replace with any existing ID\n",
    "print(get_review_analysis(example_id))\n"
   ]
  }
 ],
 "metadata": {
  "kaggle": {
   "accelerator": "none",
   "dataSources": [
    {
     "datasetId": 7047266,
     "sourceId": 11273224,
     "sourceType": "datasetVersion"
    }
   ],
   "dockerImageVersionId": 30918,
   "isGpuEnabled": false,
   "isInternetEnabled": false,
   "language": "python",
   "sourceType": "notebook"
  },
  "kernelspec": {
   "display_name": "Python 3",
   "language": "python",
   "name": "python3"
  },
  "language_info": {
   "codemirror_mode": {
    "name": "ipython",
    "version": 3
   },
   "file_extension": ".py",
   "mimetype": "text/x-python",
   "name": "python",
   "nbconvert_exporter": "python",
   "pygments_lexer": "ipython3",
   "version": "3.10.12"
  },
  "papermill": {
   "default_parameters": {},
   "duration": 9.19285,
   "end_time": "2025-04-04T10:08:57.404582",
   "environment_variables": {},
   "exception": null,
   "input_path": "__notebook__.ipynb",
   "output_path": "__notebook__.ipynb",
   "parameters": {},
   "start_time": "2025-04-04T10:08:48.211732",
   "version": "2.6.0"
  }
 },
 "nbformat": 4,
 "nbformat_minor": 5
}
